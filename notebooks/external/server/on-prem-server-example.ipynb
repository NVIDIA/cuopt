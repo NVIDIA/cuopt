{
 "cells": [
  {
   "cell_type": "markdown",
   "id": "4172b854",
   "metadata": {},
   "source": [
    "# Example\n",
    "\n",
    "## Running cuOpt Server for CVRPTW"
   ]
  },
  {
   "cell_type": "code",
   "execution_count": null,
   "id": "5cf97c4d",
   "metadata": {},
   "outputs": [],
   "source": [
    "import json\n",
    "import requests"
   ]
  },
  {
   "cell_type": "markdown",
   "id": "a0a306eb",
   "metadata": {},
   "source": [
    "**Set-up the IP, Port where the server is running**\n",
    "\n",
    "***\n",
    "\n",
    "In this example, the server was running on localhost (ip: 0.0.0.0) port 5000."
   ]
  },
  {
   "cell_type": "code",
   "execution_count": null,
   "id": "e28da4d7",
   "metadata": {},
   "outputs": [],
   "source": [
    "ip = \"0.0.0.0\"\n",
    "port = \"5000\""
   ]
  },
  {
   "cell_type": "markdown",
   "id": "4d174a31",
   "metadata": {},
   "source": [
    "## Accumulate problem data"
   ]
  },
  {
   "cell_type": "code",
   "execution_count": null,
   "id": "d6d0ae39",
   "metadata": {},
   "outputs": [],
   "source": [
    "json_data = {}"
   ]
  },
  {
   "cell_type": "markdown",
   "id": "4fa8f420",
   "metadata": {},
   "source": [
    "\n",
    "**Set waypoint graph**\n",
    "\n",
    "***\n",
    "\n",
    "Need to provide offsets, edges, and weights; weights can't be negative values.\n",
    "\n",
    "Considering 2 types of vehicle, a Van and a Truck, Van would be faster/costs less in few paths compared to Trucks, which would depict change in weights of the cost of trvael\n",
    "\n",
    "Similarly **travel_time_graph_data** can also be set."
   ]
  },
  {
   "cell_type": "code",
   "execution_count": null,
   "id": "4cfb2abb",
   "metadata": {},
   "outputs": [],
   "source": [
    "# Van\n",
    "graph_data_1 = {\n",
    "    \"offsets\": [0,       3,    5,           9,    11,   13,   15,   17, 18, 19, 20, 21],\n",
    "    \"edges\":   [1, 2, 9, 0, 7, 0, 3, 4, 10, 2, 4, 2, 5, 6, 9, 5, 8, 1,  6,  0,  5],\n",
    "    \"weights\": [1, 1, 2, 1, 2, 1, 1, 1,  3, 2, 3, 2, 1, 2, 1, 3, 4, 2,  3,  1,  1] \n",
    "}\n",
    "\n",
    "# Truck\n",
    "graph_data_2 = graph_data_1.copy()\n",
    "graph_data_2[\"weights\"] = [2, 2, 3, 2, 3, 2, 2, 2, 4, 4, 4, 3, 2, 3, 2, 4, 5, 3,  4,  2,  1] \n",
    "\n",
    "json_data[\"cost_waypoint_graph_data\"] = {\n",
    "    'waypoint_graph': {\n",
    "        1: graph_data_1, # Van\n",
    "        2: graph_data_2  # Truck\n",
    "    }\n",
    "}\n",
    "\n",
    "json_data[\"travel_time_waypoint_graph_data\"] = {\n",
    "    'waypoint_graph': {\n",
    "        1: graph_data_1, # Van\n",
    "        2: graph_data_2  # Truck\n",
    "    }\n",
    "}"
   ]
  },
  {
   "cell_type": "markdown",
   "id": "59b66a2f",
   "metadata": {},
   "source": [
    "**Set Fleet data**\n",
    "\n",
    "***\n",
    "\n",
    "Provide vehicle start and end locations along with vehicle features and capacity."
   ]
  },
  {
   "cell_type": "code",
   "execution_count": null,
   "id": "2cf54f07",
   "metadata": {},
   "outputs": [],
   "source": [
    "fleet_data = {\n",
    "    \"vehicle_locations\": [[0, 0], [1, 1], [0, 1], [1, 0], [0, 0]],\n",
    "    \"vehicle_ids\": [\"Van-A\", \"Truck-A\", \"Van-B\", \"Truck-B\", \"Van-C\"], \n",
    "    \"vehicle_types\": [1, 2, 1, 2, 1],\n",
    "    \"capacities\": [[10, 12, 15, 8, 10]],\n",
    "    \"vehicle_time_windows\": [\n",
    "        [0, 80],\n",
    "        [1, 40], \n",
    "        [3, 30], \n",
    "        [5, 80], \n",
    "        [20, 100]\n",
    "    ],\n",
    "    # Vehicle can take breaks in this time window as per berak duration provided\n",
    "    \"vehicle_break_time_windows\":[\n",
    "        [\n",
    "            [20, 25],\n",
    "            [20, 25], \n",
    "            [20, 25], \n",
    "            [20, 25], \n",
    "            [20, 25]\n",
    "        ]\n",
    "    ],\n",
    "    \"vehicle_break_durations\": [[1, 1, 1, 1, 1]],\n",
    "    # Vehicle Id 0 can only serve Order 0 and 4\n",
    "    \"vehicle_order_match\": [\n",
    "        {\n",
    "            \"vehicle_id\": 0,\n",
    "            \"order_ids\": [0, 4]\n",
    "        }\n",
    "    ],  # 0th vehicle can only serve 0th and 4th order only\n",
    "    # Don't count trip from depot to first task location\n",
    "    \"skip_first_trips\": [False, True, True, False, False], \n",
    "    # Don't count trip from last task location to depot\n",
    "    \"drop_return_trips\": [False, True, True, False, False],\n",
    "    # Maximum cost a vehicle can incur while delivering\n",
    "    \"vehicle_max_costs\": [100, 100, 100, 100, 100],\n",
    "    # Maximum time a vehicle can be working\n",
    "    \"vehicle_max_times\": [120, 120, 120, 120, 120],\n",
    "    # Minimum 2 vehicles are required to be in solution \n",
    "    \"min_vehicles\": 2,\n",
    "}\n",
    "\n",
    "json_data[\"fleet_data\"] = fleet_data"
   ]
  },
  {
   "cell_type": "markdown",
   "id": "4bd94b48",
   "metadata": {},
   "source": [
    "**Set Task data**\n",
    "\n",
    "***\n",
    "\n",
    "Provide details on task locations, demand and time window, there are other options as well."
   ]
  },
  {
   "cell_type": "code",
   "execution_count": null,
   "id": "9c430d8f",
   "metadata": {},
   "outputs": [],
   "source": [
    "task_data = {\n",
    "    \"task_locations\": [1, 3, 4, 6, 8],\n",
    "    \"demand\": [[3, 4, 4, 3, 2]],\n",
    "    \"task_time_windows\": [\n",
    "        [3, 20],\n",
    "        [5, 30],\n",
    "        [1, 20],\n",
    "        [4, 40],\n",
    "        [0, 30],\n",
    "    ],\n",
    "    \"service_times\": [3, 1, 8, 4, 0],\n",
    "    \"prizes\": [10, 20, 20, 30, 5],\n",
    "    # Order Id 0 and 4 can be served only by vehicle with id 0\n",
    "    \"order_vehicle_match\": [\n",
    "        {\n",
    "            \"order_id\": 0,\n",
    "            \"vehicle_ids\": [0]\n",
    "        },\n",
    "        {\n",
    "            \"order_id\": 4,\n",
    "            \"vehicle_ids\": [0]\n",
    "        }\n",
    "    ]\n",
    "}\n",
    "\n",
    "json_data[\"task_data\"] = task_data"
   ]
  },
  {
   "cell_type": "markdown",
   "id": "488fe9da",
   "metadata": {},
   "source": [
    "**Set solver config**\n",
    "\n",
    "***\n",
    "\n",
    "larger problems might require more time and/or more climbers"
   ]
  },
  {
   "cell_type": "code",
   "execution_count": null,
   "id": "10131f83",
   "metadata": {},
   "outputs": [],
   "source": [
    "solver_config = {\n",
    "    \"time_limit\": 1\n",
    "}\n",
    "\n",
    "json_data[\"solver_config\"] = solver_config"
   ]
  },
  {
   "cell_type": "markdown",
   "id": "088d9c8e",
   "metadata": {},
   "source": [
    "**Complete Problem data**"
   ]
  },
  {
   "cell_type": "code",
   "execution_count": null,
   "id": "febb472e",
   "metadata": {},
   "outputs": [],
   "source": [
    "print(json.dumps(json_data, indent=4))"
   ]
  },
  {
   "cell_type": "markdown",
   "id": "2d4412e5",
   "metadata": {},
   "source": [
    "**Solve the problem**\n",
    "\n",
    "***\n",
    "\n",
    "By default the solver will use all data provided and any constraints implied by that data. For example, if capacity data was provided within the vehicle data, it is assumed that the user desires to set a capacity constraint on the vehicles. If, however, a user would like to ignore particular aspects of the provided data at solve time that can be achieved by setting some of the available values to False."
   ]
  },
  {
   "cell_type": "markdown",
   "id": "abee39a0",
   "metadata": {},
   "source": [
    "**Using Thin Client**\n",
    "\n",
    "Using thin client to hit the cuOpt endpoint, you would need to know the ip and port where the server is being run.\n",
    "\n",
    "This provides few inherent options which can be a good starting point for new users,"
   ]
  },
  {
   "cell_type": "code",
   "execution_count": null,
   "id": "b433b140",
   "metadata": {},
   "outputs": [],
   "source": [
    "from cuopt_sh_client import CuOptServiceSelfHostClient\n",
    "\n",
    "client = CuOptServiceSelfHostClient(ip=ip, port=port, use_https=False)\n",
    "\n",
    "sol = client.get_optimized_routes(json_data)\n",
    "\n",
    "print(json.dumps(sol, indent=4))"
   ]
  },
  {
   "cell_type": "markdown",
   "id": "60d45540",
   "metadata": {},
   "source": [
    "**Direct cuOpt API Endpoint**\n",
    "\n",
    "Interacting directly with cuOpt API, this would be useful for customizing cuOpt into user workflow."
   ]
  },
  {
   "cell_type": "code",
   "execution_count": null,
   "id": "e5463d75",
   "metadata": {},
   "outputs": [],
   "source": [
    "import time\n",
    "\n",
    "url = \"http://\" + ip + \":\" + port + \"/cuopt/\"\n",
    "\n",
    "# The request endpoint is asynchronous; it returns a request id\n",
    "solver_response = requests.post(\n",
    "    url + \"request\", json=json_data\n",
    ").json()\n",
    "\n",
    "# Now we poll the request id in a loop until we get a response\n",
    "while True:\n",
    "    reqId = solver_response[\"reqId\"]\n",
    "    solver_response = requests.get(url + f\"solution/{reqId}\").json()\n",
    "    if \"response\" in solver_response or \"error\" in solver_response:\n",
    "        break\n",
    "    time.sleep(1)\n",
    "\n",
    "print(json.dumps(solver_response, indent=4))"
   ]
  },
  {
   "cell_type": "markdown",
   "id": "862efff4",
   "metadata": {},
   "source": [
    "**Solver Routes**\n",
    "\n",
    "Also shown here is a utility function for displaying the optimized result."
   ]
  },
  {
   "cell_type": "code",
   "execution_count": null,
   "id": "bd6da51d",
   "metadata": {},
   "outputs": [],
   "source": [
    "def show_results(res):\n",
    "    print(\"\\n====================== Response ===========================\\n\")\n",
    "    print(\"Solver status: \", res[\"status\"])\n",
    "    if res[\"status\"] == 0:\n",
    "        print(\"Cost         : \", res[\"solution_cost\"])\n",
    "        print(\"Vehicle count: \", res[\"num_vehicles\"])\n",
    "        for veh_id in res[\"vehicle_data\"].keys():\n",
    "            print(\"\\nVehicle ID: \", veh_id)\n",
    "            print(\"----------\")\n",
    "            print(\"Tasks assigned: \", res[\"vehicle_data\"][veh_id][\"task_id\"])\n",
    "            data = res[\"vehicle_data\"][veh_id]\n",
    "            routes_and_types = {key:data[key] for key in [\"route\", \"type\"]}\n",
    "            print(\"Route: \\n\", routes_and_types)\n",
    "    else:\n",
    "        print(\"Error: \", res[\"error\"])\n",
    "    print(\"\\n======================= End ===============================\\n\")\n",
    "    \n",
    "show_results(solver_response[\"response\"][\"solver_response\"])"
   ]
  },
  {
   "cell_type": "code",
   "execution_count": null,
   "id": "e080a856",
   "metadata": {},
   "outputs": [],
   "source": []
  }
 ],
 "metadata": {
  "kernelspec": {
   "display_name": "Python 3 (ipykernel)",
   "language": "python",
   "name": "python3"
  },
  "language_info": {
   "codemirror_mode": {
    "name": "ipython",
    "version": 3
   },
   "file_extension": ".py",
   "mimetype": "text/x-python",
   "name": "python",
   "nbconvert_exporter": "python",
   "pygments_lexer": "ipython3",
   "version": "3.12.9"
  }
 },
 "nbformat": 4,
 "nbformat_minor": 5
}
